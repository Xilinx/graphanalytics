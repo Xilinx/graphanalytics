{
 "cells": [
  {
   "cell_type": "markdown",
   "metadata": {},
   "source": [
    "# Welcome to Xilinx Cosine Similarity Acceleration Demo\n",
    "---\n",
    "This notebook demonstrates how to use the Xilinx Cosine Similarity product and shows the power of Xilinx FPGAs to accelerate Cosine Similarity.\n",
    "\n",
    "### The demo\n",
    "In this demo, we will use the Xilinx Cosine Similarity module (**xilCosineSim**) and setup a population against which similarity of target vectors can be calculated. The population as well as the target vector are created randomly and the datatype used is integer. The demo is structured in two sections:\n",
    "\n",
    "1. [**Create and load Population**](#load)\n",
    "\n",
    "2. [**Match Target Vector**](#match)"
   ]
  },
  {
   "cell_type": "markdown",
   "metadata": {},
   "source": [
    ">**NOTE**: Xilinx Cosine Similarity module requires atleast ***python 3.6***. We can check the Jupyter kernel version using the following cell:"
   ]
  },
  {
   "cell_type": "code",
   "execution_count": 1,
   "metadata": {},
   "outputs": [
    {
     "name": "stdout",
     "output_type": "stream",
     "text": [
      "3.6.13\n"
     ]
    }
   ],
   "source": [
    "from platform import python_version\n",
    "print(python_version())"
   ]
  },
  {
   "cell_type": "markdown",
   "metadata": {},
   "source": [
    "### Setup\n",
    "---\n",
    "Let's start by importing the module and setting up demo variables"
   ]
  },
  {
   "cell_type": "code",
   "execution_count": 2,
   "metadata": {},
   "outputs": [],
   "source": [
    "import xilCosineSim as xcs\n",
    "import random as rand"
   ]
  },
  {
   "cell_type": "markdown",
   "metadata": {},
   "source": [
    "Following variables set the scale of the run:\n",
    "- VectorLength: number of elements in each vector\n",
    "- NumVectors: number of vectors, (size of the population)\n",
    "- Maxvalue: range of vector element values"
   ]
  },
  {
   "cell_type": "code",
   "execution_count": 3,
   "metadata": {},
   "outputs": [],
   "source": [
    "VectorLength = 200\n",
    "NumVectors = 5000\n",
    "MaxValue = 16383\n",
    "testVec = []"
   ]
  },
  {
   "cell_type": "markdown",
   "metadata": {},
   "source": [
    "The CosineSim library supports the following options to be setup (use the options() attribute as follows):\n",
    "- `vecLength`: number of elements in each vector\n",
    "- `numDevices` number of FPGA devices available to be used to perform compute (more devices leads to higher speedup)\n",
    "- `xclbinPath` path to the FPGA binary image\n",
    "\n",
    "The number of devies and xclbinPath here are left default to 1 and location of Xilinx product installation."
   ]
  },
  {
   "cell_type": "code",
   "execution_count": 4,
   "metadata": {},
   "outputs": [],
   "source": [
    "opt = xcs.options()\n",
    "opt.vecLength = VectorLength\n",
    "testVecIdx = rand.randint(0, NumVectors - 1) # select one index as the test vector"
   ]
  },
  {
   "cell_type": "markdown",
   "metadata": {},
   "source": [
    "Now we create the cosinesim object to operate on."
   ]
  },
  {
   "cell_type": "code",
   "execution_count": 5,
   "metadata": {},
   "outputs": [],
   "source": [
    "cs = xcs.cosinesim(opt, 4) # (options, data size in bytes)"
   ]
  },
  {
   "cell_type": "markdown",
   "metadata": {},
   "source": [
    "### Create and load Population <a id=\"load\"></a>\n",
    "---\n",
    "We start by {FILL ME}"
   ]
  },
  {
   "cell_type": "code",
   "execution_count": 6,
   "metadata": {},
   "outputs": [],
   "source": [
    "cs.startLoadPopulation(NumVectors)"
   ]
  },
  {
   "cell_type": "markdown",
   "metadata": {},
   "source": [
    "Next we create random data and load it one vector at a time. Any numerical embeddings can be used to create this data, rendering the acceleration library useful in a wide variety of use cases.\n",
    "\n",
    "`getPopulationVectorBuffer` API is called to return a buffer element that can be filled. This is followed by a `finishCurrentPopulationVector` call that {FILL ME}. When all the vectors are created, `finishLoadPopulationVectors` is called to finish loading the population data into FPGA accessible HBM memory. \n",
    "\n",
    "This finishes the **one-time** population creation process."
   ]
  },
  {
   "cell_type": "code",
   "execution_count": 7,
   "metadata": {},
   "outputs": [],
   "source": [
    "# Create vector embeddings\n",
    "for vecNum in range(NumVectors):\n",
    "    # Get a vector\n",
    "    vecBuf = cs.getPopulationVectorBuffer(vecNum)\n",
    "\n",
    "    # Fill the vector\n",
    "    for vecIdx in range(VectorLength):\n",
    "        val = rand.randint(int(-MaxValue/2), int(MaxValue/2))\n",
    "        vecBuf.fill(val)  # fill cpp managed memory\n",
    "        if vecNum == testVecIdx:\n",
    "            testVec.append(val)\n",
    "\n",
    "    # Finish filling the vector\n",
    "    cs.finishCurrentPopulationVector(vecBuf)\n",
    "\n",
    "# Finishing embedding creation\n",
    "cs.finishLoadPopulationVectors()"
   ]
  },
  {
   "cell_type": "markdown",
   "metadata": {},
   "source": [
    "### Match Target Vector <a id=\"match\"></a>\n",
    "---\n",
    "\n",
    "In this part we show how an user can easily call the `matchTargetVector` API to get top \"similar\" vectors/embeddings from the loaded population of embeddings. Here we ask for top **10** best matches for our Target vector."
   ]
  },
  {
   "cell_type": "code",
   "execution_count": 8,
   "metadata": {},
   "outputs": [
    {
     "name": "stdout",
     "output_type": "stream",
     "text": [
      "Results:\n",
      "Similarity   Vector #\n",
      "----------   --------\n",
      "1.000000       2833\n",
      "0.279117       1149\n",
      "0.257780       3174\n",
      "0.248899       3345\n",
      "0.232691       681\n",
      "0.228679       3363\n",
      "0.221258       2267\n",
      "0.218737       1018\n",
      "0.218032       3618\n",
      "0.210160       2100\n"
     ]
    }
   ],
   "source": [
    "result = cs.matchTargetVector(10, testVec)\n",
    "print(\"Results:\")\n",
    "print(\"Similarity   Vector #\")\n",
    "print(\"----------   --------\")\n",
    "for item in result:\n",
    "    print('{:.6f}'.format(item.similarity) + \"       \" + str(item.index))"
   ]
  }
 ],
 "metadata": {
  "kernelspec": {
   "display_name": "Python 3",
   "language": "python",
   "name": "python3"
  },
  "language_info": {
   "codemirror_mode": {
    "name": "ipython",
    "version": 3
   },
   "file_extension": ".py",
   "mimetype": "text/x-python",
   "name": "python",
   "nbconvert_exporter": "python",
   "pygments_lexer": "ipython3",
   "version": "3.6.13"
  }
 },
 "nbformat": 4,
 "nbformat_minor": 4
}
