{
 "cells": [
  {
   "cell_type": "markdown",
   "id": "756f62cf",
   "metadata": {},
   "source": [
    "# Welcome to Xilinx Fuzzy Match Acceleration Demo\n",
    "---\n",
    "This notebook demonstrates how to use the Xilinx Fuzzy Match product and shows the power of Xilinx Alveo FPGAs cards to accelerate Fuzzy Match.\n",
    "\n",
    "### The demo\n",
    "In this demo, we will use the Xilinx Fuzzy Match python module (**xilFuzzyMatchPython**) to match new names against reference names and retrieve matches within a similarity threshold specified by the user."
   ]
  },
  {
   "cell_type": "markdown",
   "id": "56c85949",
   "metadata": {},
   "source": [
    ">**NOTE**: Xilinx Fuzzy Match module requires atleast ***python 3.6***"
   ]
  },
  {
   "cell_type": "markdown",
   "id": "bb4a17b8",
   "metadata": {},
   "source": [
    "### Setup\n",
    "---\n",
    "Let's start by importing the module and setting up demo variables"
   ]
  },
  {
   "cell_type": "code",
   "execution_count": 1,
   "id": "56d02ccd",
   "metadata": {},
   "outputs": [],
   "source": [
    "import xilFuzzyMatchPython as xfm\n",
    "import os\n",
    "import os.path\n",
    "import sys\n",
    "import argparse\n",
    "import pandas as pd\n",
    "import numpy as np\n",
    "from timeit import default_timer as timer"
   ]
  },
  {
   "cell_type": "markdown",
   "id": "f88ee46b",
   "metadata": {},
   "source": [
    "The run is setup with the following options:\n",
    "- xclbin_path: full path to the Alveo FPGA device executable\n",
    "- deviceNames: full name of the Alveo board to run on (Supported devices Alveo U50, U55C and AWS F1)\n",
    "- in_dir: location of the data files\n",
    "\n",
    "The variables here are set from the environment variables in the *run* script used to launch the jupyter server."
   ]
  },
  {
   "cell_type": "code",
   "execution_count": 2,
   "id": "35ff690f",
   "metadata": {},
   "outputs": [],
   "source": [
    "xclbin_path = os.environ.get('XCLBIN_FILE')\n",
    "deviceNames = os.environ.get('DEV_NAME')\n",
    "in_dir = os.environ.get('DATA_DIR')"
   ]
  },
  {
   "cell_type": "code",
   "execution_count": 3,
   "id": "7aa5c770",
   "metadata": {},
   "outputs": [
    {
     "name": "stdout",
     "output_type": "stream",
     "text": [
      "/opt/xilinx/apps/graphanalytics/fuzzymatch/0.2/xclbin/fuzzy_xilinx_u50_gen3x16_xdma_201920_3.xclbin xilinx_u50_gen3x16_xdma_201920_3 /proj/gdba/ywu/ghe/graphanalytics/fuzzymatch/staging/examples/python/../data\n"
     ]
    }
   ],
   "source": [
    "print(xclbin_path, deviceNames, in_dir)"
   ]
  },
  {
   "cell_type": "code",
   "execution_count": 4,
   "id": "cd911c64",
   "metadata": {},
   "outputs": [],
   "source": [
    "# set options for FuzzyMatch\n",
    "#create options\n",
    "opt = xfm.options()\n",
    "opt.xclbinPath=xfm.xString(xclbin_path)\n",
    "opt.deviceNames=xfm.xString(deviceNames)"
   ]
  },
  {
   "cell_type": "markdown",
   "id": "543e662a",
   "metadata": {},
   "source": [
    "### Load Data and initialize compute"
   ]
  },
  {
   "cell_type": "code",
   "execution_count": 6,
   "id": "d9bf91cb",
   "metadata": {},
   "outputs": [
    {
     "name": "stdout",
     "output_type": "stream",
     "text": [
      "842\n"
     ]
    }
   ],
   "source": [
    "# Load data\n",
    "peopleFile = in_dir + \"/ref-names.csv\"\n",
    "trans_num=100\n",
    "test_input = in_dir + \"/new-names.csv\"\n",
    "stats=pd.read_csv(test_input, delimiter=',', names=['Id','Name'])\n",
    "peopleVecs=pd.read_csv(peopleFile, delimiter=',',names = ['Id','Name'])\n",
    "\n",
    "totalEntities = 10000000\n",
    "\n",
    "stats=stats.iloc[1:]\n",
    "peopleVecs=peopleVecs.iloc[1:]\n",
    "peopleVec=peopleVecs[['Name']]\n",
    "data_vec=stats[['Name']]\n",
    "\n",
    "inputVec=[]\n",
    "inputId=[]\n",
    "print(len(peopleVec['Name']))\n",
    "for idx in range(1,len(peopleVec['Name'])):\n",
    "    #print(peopleVec['Name'][idx])\n",
    "    inputVec.append(peopleVec['Name'][idx])"
   ]
  },
  {
   "cell_type": "markdown",
   "id": "0279080f",
   "metadata": {},
   "source": [
    "Now let's create the Xilinx FuzzyMatch object using the options we just created"
   ]
  },
  {
   "cell_type": "code",
   "execution_count": 7,
   "id": "066551dd",
   "metadata": {},
   "outputs": [],
   "source": [
    "#create fuzzymatch object\n",
    "mchecker = xfm.FuzzyMatch(opt)"
   ]
  },
  {
   "cell_type": "markdown",
   "id": "13be2c3e",
   "metadata": {},
   "source": [
    "Next, the Alveo card needs to be prepared for the Fuzzy Match run. This step involves establishing connection with the Alveo device and program the FPGA with executable binary called xclbin (if not already done)."
   ]
  },
  {
   "cell_type": "code",
   "execution_count": 8,
   "id": "ef1dd079",
   "metadata": {},
   "outputs": [
    {
     "name": "stdout",
     "output_type": "stream",
     "text": [
      "INFO: Found requested device: xilinx_u50_gen3x16_xdma_201920_3 ID=2\n",
      "INFO: Start Fuzzy Match on xilinx_u50_gen3x16_xdma_201920_3\n",
      "INFO: found device=xilinx_u50_gen3x16_xdma_201920_3\n",
      "INFO: fuzzy_kernel has 2 CU(s)\n"
     ]
    }
   ],
   "source": [
    "# initialize the FPGA device for Fuzzy Match run\n",
    "stat_check=mchecker.startFuzzyMatch()"
   ]
  },
  {
   "cell_type": "markdown",
   "id": "c4e5cb41",
   "metadata": {},
   "source": [
    "### Execute  FuzzyMatch\n",
    "---\n",
    "Finally, the computation is executed by calling the following API. This transfers (DMA) data to the Alveo HBMs and runs the Fuzzy Match algorithm. Counters are used here to time the run which shows the incredibly fast return time of the Xilinx Fuzzy Match librrary."
   ]
  },
  {
   "cell_type": "code",
   "execution_count": 10,
   "id": "2eee7157",
   "metadata": {},
   "outputs": [
    {
     "name": "stdout",
     "output_type": "stream",
     "text": [
      "INFO: FuzzyMatchImpl::fuzzyMatchLoadVec vec_pattern size=841\n",
      "the size of data_vec 259\n"
     ]
    }
   ],
   "source": [
    "# execute Fuzzy Match on FPGA\n",
    "threshold = 90\n",
    "# Load reference data\n",
    "stat_check=mchecker.fuzzyMatchLoadVec(inputVec,inputId)\n",
    "\n",
    "# create input patterns \n",
    "test_transaction=[]\n",
    "print('the size of data_vec',len(data_vec))\n",
    "\n",
    "for idx in range (1,len(data_vec)):\n",
    "    test_transaction.append(data_vec['Name'][idx])\n",
    "\n",
    "result_list={}\n",
    "\n",
    "# run fuzzymatch on input patterns in batch mode \n",
    "start=timer()\n",
    "result_list = mchecker.executefuzzyMatch(test_transaction, threshold)\n",
    "end = timer()\n",
    "timeTaken = (end - start)*1000\n"
   ]
  },
  {
   "cell_type": "markdown",
   "id": "fd178867",
   "metadata": {},
   "source": [
    "### Display FuzzyMatch Result"
   ]
  },
  {
   "cell_type": "code",
   "execution_count": 11,
   "id": "056a63cc",
   "metadata": {},
   "outputs": [
    {
     "name": "stdout",
     "output_type": "stream",
     "text": [
      "HJGGJNCOTHAM --->  no match\n",
      "STRINGFELMOW --->  { STRINGFELLOW : 92 };  { STRINGFELLOW : 92 };  \n",
      "VAOLBNDINGHAM --->  no match\n",
      "COLLINSWQRTH --->  { COLLINSWORTH : 92 };  { COLLINSWORTH : 92 };  \n",
      "OSHAUGHNETSY --->  { OSHAUGHNESSY : 92 };  { OSHAUGHNESSY : 92 };  \n",
      "HOLLANESWORUH --->  no match\n",
      "FLECKENTTEIO --->  no match\n",
      "PAPADOPOVLOT --->  no match\n",
      "FENSTERMACHFR --->  { FENSTERMACHER : 93 };  { FENSTERMACHER : 93 };  \n",
      "XITHERINGTON --->  { WITHERINGTON : 92 };  { WITHERINGTON : 92 };  \n",
      "PGANOENSTIEL --->  no match\n",
      "FENSTFRNAKER --->  no match\n",
      "WGISENBERGER --->  { WEISENBERGER : 92 };  { WEISENBERGER : 92 };  \n",
      "SUEFFENSMEIES --->  no match\n",
      "SCHSECKEOGOTT --->  no match\n",
      "LICHUENBERGER --->  { LICHTENBERGER : 93 };  { LICHTENBERGER : 93 };  \n",
      "VILLAVIDENDIO --->  no match\n",
      "RICKENBBCKES --->  no match\n",
      "HQLLINGWORUH --->  no match\n",
      "HIGGEOBOTHAM --->  { HIGGENBOTHAM : 92 };  { HIGGENBOTHAM : 92 };  \n",
      "COLMINGSWORTH --->  { COLLINGSWORTH : 93 };  { COLLINGSWORTH : 93 };  \n",
      "BLANKENBBLER --->  no match\n",
      "KNAQPENBERGER --->  { KNAPPENBERGER : 93 };  { KNAPPENBERGER : 93 };  \n",
      "BRBODSTETTER --->  no match\n",
      "SCHWEIOSBETG --->  no match\n",
      "MACGILLIVRBY --->  { MACGILLIVRAY : 92 };  { MACGILLIVRAY : 92 };  \n",
      "CRANEENBERGER --->  no match\n",
      "HFATHERIOHTON --->  no match\n",
      "CLINKEOBEASD --->  no match\n",
      "SXARTZENTSUBE --->  no match\n",
      "BERNSKOETUER --->  { BERNSKOETTER : 92 };  { BERNSKOETTER : 92 };  \n",
      "STEINDRFCHER --->  no match\n",
      "STANISZEYSLI --->  no match\n",
      "MARTINEEMCANP --->  no match\n",
      "KIRSCHFOCAUM --->  no match\n",
      "FASTESBROOKS --->  no match\n",
      "BALASUBRBMANJ --->  no match\n",
      "WOMFINCARGER --->  no match\n",
      "VANVBLMENBUR --->  no match\n",
      "TRADHTENBERG --->  { TRACHTENBERG : 92 };  { TRACHTENBERG : 92 };  \n",
      "OELSDHLAEGET --->  no match\n",
      "MERRZWEATHER --->  { MERRYWEATHER : 92 };  { MERRYWEATHER : 92 };  { MERRIWEATHER : 92 };  { MERRIWEATHER : 92 };  \n",
      "MBZVRKIEWICA --->  no match\n",
      "GIAONAKOPOULO --->  { GIANNAKOPOULO : 93 };  { GIANNAKOPOULO : 93 };  \n",
      "EIBARTOMPMEO --->  no match\n",
      "DAUGHEOBAUGH --->  { DAUGHENBAUGH : 92 };  { DAUGHENBAUGH : 92 };  \n",
      "THOLMENBERGER --->  no match\n",
      "SCHNACKENBESG --->  { SCHNACKENBERG : 93 };  { SCHNACKENBERG : 93 };  \n",
      "IANNERSCHMIDT --->  no match\n",
      "DHRISTPPHERSE --->  no match\n",
      "BUFOAVENTURA --->  no match\n",
      "WFRUEOBERGER --->  no match\n",
      "TITTERINGTOP --->  { TITTERINGTON : 92 };  { TITTERINGTON : 92 };  \n",
      "TDHLOTTERBECK --->  no match\n",
      "METSERSCHMIET --->  no match\n",
      "KIRTCHENMANN --->  { KIRSCHENMANN : 92 };  { KIRSCHENMANN : 92 };  \n",
      "HESSELTCHWBRD --->  no match\n",
      "CRODKLEHUSST --->  no match\n",
      "BLOONINGDALE --->  { BLOOMINGDALE : 92 };  { BLOOMINGDALE : 92 };  \n",
      "STUEKESJUERGE --->  { STUEKERJUERGE : 93 };  { STUEKERJUERGE : 93 };  \n",
      "RIEMEPSCHNEID --->  { RIEMENSCHNEID : 93 };  { RIEMENSCHNEID : 93 };  \n",
      "REIFSCHNFIDFR --->  no match\n",
      "LAUHHINGHOUSE --->  { LAUGHINGHOUSE : 93 };  { LAUGHINGHOUSE : 93 };  \n",
      "LASATHAOASIS --->  no match\n",
      "MERGENTIALES --->  no match\n",
      "MALAODSVCCOLO --->  no match\n",
      "KRZYZBNOXSKI --->  no match\n",
      "KROPIELOWSLI --->  no match\n",
      "DEMAFONTAINE --->  { DELAFONTAINE : 92 };  { DELAFONTAINE : 92 };  \n",
      "CLINGINGSMJTH --->  { CLINGINGSMITH : 93 };  { CLINGINGSMITH : 93 };  \n",
      "BJTTENBENDES --->  no match\n",
      "STONEBREAKES --->  { STONEBREAKER : 92 };  { STONEBREAKER : 92 };  \n",
      "SCRITCIFJEMD --->  no match\n",
      "SCHOENFEMDER --->  { SCHOENFELDER : 92 };  { SCHOENFELDER : 92 };  \n",
      "SDHAUFEMBERGF --->  no match\n",
      "NARDINKIEWICZ --->  no match\n",
      "HINVERMEITTER --->  no match\n",
      "FRIEDRICITEO --->  no match\n",
      "TURRUCIARTES --->  { TURRUBIARTES : 92 };  { TURRUBIARTES : 92 };  \n",
      "THEOEOSPPOULO --->  no match\n",
      "THUGFLFBARGER --->  no match\n",
      "SCHWFSDTFEGER --->  no match\n",
      "SCHAARSCHMIDU --->  { SCHAARSCHMIDT : 93 };  { SCHAARSCHMIDT : 93 };  \n",
      "PVLVERMACHER --->  { PULVERMACHER : 92 };  { PULVERMACHER : 92 };  \n",
      "QOSTLETHXAIU --->  no match\n",
      "PFUSCHWANDER --->  no match\n",
      "MITTENSTEADT --->  { MITTELSTEADT : 92 };  { MITTELSTEADT : 92 };  \n",
      "HFJMESDINGER --->  no match\n",
      "ERTZBISDHOFF --->  { ERTZBISCHOFF : 92 };  { ERTZBISCHOFF : 92 };  \n",
      "CZACHORPWSKI --->  { CZACHOROWSKI : 92 };  { CZACHOROWSKI : 92 };  \n",
      "CHIBPPINELMI --->  no match\n",
      "CRECKINRIDGE --->  { BRECKINRIDGE : 92 };  { BRECKINRIDGE : 92 };  \n",
      "VANDFRGIFSTEN --->  no match\n",
      "SCHXIETERMAN --->  { SCHWIETERMAN : 92 };  { SCHWIETERMAN : 92 };  \n",
      "SCIWFNDEMANN --->  no match\n",
      "MUCKFNTIALER --->  no match\n",
      "MIERZEJEWVKI --->  { MIERZEJEWSKI : 92 };  { MIERZEJEWSKI : 92 };  \n",
      "LINDEOCERGER --->  no match\n",
      "HIHGINCOTHAN --->  no match\n",
      "HEARNSDERGER --->  { HEARNSBERGER : 92 };  { HEARNSBERGER : 92 };  \n",
      "GUJLLFRFAULT --->  no match\n",
      "IRPSSENBACHER --->  no match\n",
      "GOVINDEISBMK --->  no match\n",
      "FRANLENSTEIN --->  { FRANKENSTEIN : 92 };  { FRANKENSTEIN : 92 };  \n",
      "FITCHQATRICK --->  { FITCHPATRICK : 92 };  { FITCHPATRICK : 92 };  \n",
      "ESIENBRENNER --->  { ESHENBRENNER : 92 };  { ESHENBRENNER : 92 };  \n",
      "EIEGFENBACHES --->  no match\n",
      "EEMARANWILLE --->  no match\n",
      "DANOENFGLSER --->  no match\n",
      "CHAMNANQIONZ --->  no match\n",
      "BHAUTADIARYA --->  no match\n",
      "WINKENWERDGS --->  no match\n",
      "VECDHIASFLLI --->  no match\n",
      "STIKELEBUHER --->  no match\n",
      "TTAVROPOULQS --->  no match\n",
      "STATHPPPVLOS --->  no match\n",
      "SHINEMEDECKES --->  no match\n",
      "ROEUCISOFNDES --->  no match\n",
      "PONGKHAMSINH --->  { PONGKHAMSING : 92 };  { PONGKHAMSING : 92 };  \n",
      "KUCHENMFISTES --->  no match\n",
      "LVDHENBECKER --->  no match\n",
      "DVNKLEBERGER --->  { DUNKLEBERGER : 92 };  { DUNKLEBERGER : 92 };  \n",
      "CIEESEBROUGH --->  { CHEESEBROUGH : 92 };  { CHEESEBROUGH : 92 };  \n",
      "BUDZJSZEWSKI --->  { BUDZISZEWSKI : 92 };  { BUDZISZEWSKI : 92 };  \n",
      "BOUNUHBPANYA --->  no match\n",
      "BIANCANIFLLO --->  { BIANCANIELLO : 92 };  { BIANCANIELLO : 92 };  \n",
      "ASCHENBRENFR --->  { ASCHENBRENER : 92 };  { ASCHENBRENER : 92 };  \n",
      "ANNICCIIARICO --->  { ANNICCHIARICO : 93 };  { ANNICCHIARICO : 93 };  \n",
      "XAJMPVNGKHOUN --->  no match\n",
      "WHITESCARYER --->  { WHITESCARVER : 92 };  { WHITESCARVER : 92 };  \n",
      "WENDEMDERGER --->  no match\n",
      "VONNIEDERIAUS --->  { VONNIEDERHAUS : 93 };  { VONNIEDERHAUS : 93 };  \n",
      "VAODERHEIEFN --->  no match\n",
      "WANBECELAERE --->  { VANBECELAERE : 92 };  { VANBECELAERE : 92 };  \n",
      "SWARUZMIMLER --->  no match\n",
      "SCIWBLENCERG --->  no match\n",
      "SCHMESSELNAN --->  no match\n",
      "SBYSITHIDETI --->  no match\n",
      "SANTIESTEBBN --->  { SANTIESTEBAN : 92 };  { SANTIESTEBAN : 92 };  \n",
      "QOSTLFTHWAIUE --->  no match\n",
      "PLTSENBARGER --->  { PITSENBARGER : 92 };  { PITSENBARGER : 92 };  \n",
      "MIODVSZEWSLI --->  no match\n",
      "MEATHERBERRY --->  { LEATHERBERRY : 92 };  { LEATHERBERRY : 92 };  \n",
      "KONTOGJANNIS --->  { KONTOGIANNIS : 92 };  { KONTOGIANNIS : 92 };  \n",
      "KLINGFLHOGFER --->  no match\n",
      "KELIIHOMOLAI --->  no match\n",
      "HOFGSCHNEIDER --->  { HOFFSCHNEIDER : 93 };  { HOFFSCHNEIDER : 93 };  \n",
      "HESSENTHALGR --->  { HESSENTHALER : 92 };  { HESSENTHALER : 92 };  \n",
      "HATZENBUILER --->  { HATZENBUHLER : 92 };  { HATZENBUHLER : 92 };  \n",
      "GRPTELUESCHEN --->  { GROTELUESCHEN : 93 };  { GROTELUESCHEN : 93 };  \n",
      "GIBNGRFGPRIO --->  no match\n",
      "DEUUSCHENDORF --->  { DEUTSCHENDORF : 93 };  { DEUTSCHENDORF : 93 };  \n",
      "BROCKEMMEYER --->  { BROCKELMEYER : 92 };  { BROCKELMEYER : 92 };  \n",
      "BREIDENBBUGH --->  { BREIDENBAUGH : 92 };  { BREIDENBAUGH : 92 };  \n",
      "BIEEENBENDES --->  no match\n",
      "BELMINGHAUSEN --->  { BELLINGHAUSEN : 93 };  { BELLINGHAUSEN : 93 };  \n",
      "ZUCHELKPWSLJ --->  no match\n",
      "WHITELIGHTNJO --->  no match\n",
      "WEATHERINHTON --->  { WEATHERINGTON : 93 };  { WEATHERINGTON : 93 };  \n",
      "THVODERCLOVD --->  no match\n",
      "SZALANKIFWICZ --->  { SZALANKIEWICZ : 93 };  { SZALANKIEWICZ : 93 };  \n",
      "STREJTENBERGF --->  no match\n",
      "TTOLLSTFIMFR --->  no match\n",
      "TOUWANNARIUH --->  no match\n",
      "SCIANCAMEPORE --->  { SCIANCALEPORE : 93 };  { SCIANCALEPORE : 93 };  \n",
      "SCHUPPENHAUGS --->  no match\n",
      "SCHIMMPELLER --->  no match\n",
      "SBOTOMASSIMO --->  no match\n",
      "SOMMELHANGER --->  no match\n",
      "SICCIBRDEMLI --->  no match\n",
      "PUTIJYAMBDAM --->  no match\n",
      "QUFFEOBARGER --->  no match\n",
      "POPIFLARCZZK --->  no match\n",
      "PTTOMANIFLLO --->  no match\n",
      "NIEDZNIKOWSLI --->  no match\n",
      "KJUTELBERGER --->  no match\n",
      "KITCHGETSNER --->  no match\n",
      "KHACIATOOSIAN --->  no match\n",
      "JURGENTMEIER --->  { JURGENSMEIER : 92 };  { JURGENSMEIER : 92 };  \n",
      "KARAEMBOWSKI --->  no match\n",
      "GPTTFMOELLER --->  no match\n",
      "GMBDYSJEWSKI --->  no match\n",
      "FRAUFNFELDER --->  { FRAUENFELDER : 92 };  { FRAUENFELDER : 92 };  \n",
      "ELNINGHUYSEO --->  no match\n",
      "DIQJETSANTONI --->  no match\n",
      "DESSUISSEAUX --->  { DESRUISSEAUX : 92 };  { DESRUISSEAUX : 92 };  \n",
      "COFFINBERHER --->  { COFFINBERGER : 92 };  { COFFINBERGER : 92 };  \n",
      "CLINKJNBEARD --->  { CLINKINBEARD : 92 };  { CLINKINBEARD : 92 };  { CLINKENBEARD : 92 };  { CLINKENBEARD : 92 };  \n",
      "CISISTENBURY --->  no match\n",
      "CUVIOGHBUSEN --->  no match\n",
      "BROOKSKENNEEY --->  { BROOKSKENNEDY : 93 };  { BROOKSKENNEDY : 93 };  \n",
      "BODENSTFINER --->  { BODENSTEINER : 92 };  { BODENSTEINER : 92 };  \n",
      "BBGHDASARIAN --->  { BAGHDASARIAN : 92 };  { BAGHDASARIAN : 92 };  \n",
      "WOHMSCHLEGFL --->  no match\n",
      "WFSTERVPOSDE --->  no match\n",
      "WEIEENHEINER --->  no match\n",
      "WONBRAUNSBERH --->  no match\n",
      "VANEVYNIOVEN --->  no match\n",
      "VANCENTHUYSE --->  { VANBENTHUYSE : 92 };  { VANBENTHUYSE : 92 };  \n",
      "THPSPUGHGOOD --->  no match\n",
      "TEROGANETYAN --->  { TEROGANESYAN : 92 };  { TEROGANESYAN : 92 };  \n",
      "SZCZEBLEXSKI --->  { SZCZEBLEWSKI : 92 };  { SZCZEBLEWSKI : 92 };  \n",
      "SUWANNAKIOTHO --->  { SUWANNAKINTHO : 93 };  { SUWANNAKINTHO : 93 };  \n",
      "TULMENCERGER --->  no match\n",
      "TTEINKUEHLFS --->  no match\n",
      "SDSARPITOATO --->  no match\n",
      "SCHOWENGEREU --->  no match\n",
      "SCHNFEBFSGER --->  no match\n",
      "SCHMJEDESKBMP --->  no match\n",
      "SCHIERENBEEL --->  no match\n",
      "SCIANZENBACH --->  { SCHANZENBACH : 92 };  { SCHANZENBACH : 92 };  \n",
      "SAENQHIMMACHA --->  { SAENPHIMMACHA : 93 };  { SAENPHIMMACHA : 93 };  \n",
      "RINGELSPAVHH --->  no match\n",
      "PUFGENCERGES --->  no match\n",
      "PIJMPRADAPSZ --->  no match\n",
      "QFEIFFENBERGE --->  { PFEIFFENBERGE : 93 };  { PFEIFFENBERGE : 93 };  \n",
      "NIEEZWIFDZKJ --->  no match\n",
      "NETTLEINGHBN --->  no match\n",
      "NANTCNAPIBUL --->  { NANTANAPIBUL : 92 };  { NANTANAPIBUL : 92 };  \n",
      "OCCORKIODALE --->  no match\n",
      "MASEIANTONIO --->  { MASCIANTONIO : 92 };  { MASCIANTONIO : 92 };  \n",
      "MARCHESSEBULT --->  { MARCHESSEAULT : 93 };  { MARCHESSEAULT : 93 };  \n",
      "MADCHIARELLB --->  no match\n",
      "LJTZEOBERGER --->  no match\n",
      "LINGESGFLTER --->  no match\n",
      "LBODENCERGER --->  no match\n",
      "KRJSTOFFERSON --->  { KRISTOFFERSON : 93 };  { KRISTOFFERSON : 93 };  \n",
      "KSEVTABENDER --->  no match\n",
      "LHENSAMPHBNH --->  no match\n",
      "KEUTERINGHAM --->  { KETTERINGHAM : 92 };  { KETTERINGHAM : 92 };  \n",
      "KEOBAUNMEUANG --->  { KEOBAUNLEUANG : 93 };  { KEOBAUNLEUANG : 93 };  \n",
      "KBHOOHALPHALA --->  { KAHOOHALPHALA : 93 };  { KAHOOHALPHALA : 93 };  \n",
      "HOUGHTELLJOG --->  no match\n",
      "HELPHENTVINE --->  no match\n",
      "HEBDLETHWAITE --->  { HEBBLETHWAITE : 93 };  { HEBBLETHWAITE : 93 };  \n",
      "HASSELWANEER --->  no match\n",
      "HBNESCHUMAKER --->  no match\n",
      "GUNZENIBUSER --->  no match\n",
      "GOODENBERGES --->  { GOODENBERGER : 92 };  { GOODENBERGER : 92 };  \n",
      "GAHMIASDOTTO --->  no match\n",
      "FUPPCYUPAOQUJ --->  no match\n",
      "FUNDEOBERGER --->  { FUNDENBERGER : 92 };  { FUNDENBERGER : 92 };  \n",
      "FLOESCHINGER --->  { FLOERCHINGER : 92 };  { FLOERCHINGER : 92 };  \n",
      "FLEURISSAIOT --->  { FLEURISSAINT : 92 };  { FLEURISSAINT : 92 };  \n",
      "EZJERZAOOWSKI --->  no match\n",
      "DPWENMUEHLER --->  no match\n",
      "EIONISOQOULOS --->  no match\n",
      "EELOSANGELET --->  no match\n",
      "DFFRANCESCII --->  no match\n",
      "DHANDRASEKHAR --->  { CHANDRASEKHAR : 93 };  { CHANDRASEKHAR : 93 };  \n",
      "CASTELLBNETA --->  { CASTELLANETA : 92 };  { CASTELLANETA : 92 };  \n",
      "BSOWNSBFRGER --->  no match\n",
      "BRIOCKERHOFG --->  no match\n",
      "BSEIUENFELDT --->  no match\n",
      "BREITENCUDHES --->  no match\n",
      "BLUMFNKRANTA --->  no match\n",
      "CLANLENBEDLER --->  no match\n",
      "ANDRUSAKIEWJC --->  no match\n",
      "Average time taken per string 0.013 \n",
      "\n"
     ]
    }
   ],
   "source": [
    "for idx in range (0,len(data_vec)-1):\n",
    "    print(test_transaction[idx],\"---> \", end=' ')\n",
    "    if not result_list[idx]:\n",
    "        print(\"no match\")\n",
    "    else :\n",
    "        for item in result_list[idx]:\n",
    "            print('{',inputVec[item[0]],':', item[1], '}', end=';  ')\n",
    "        print()\n",
    "\n",
    "    \n",
    "\n",
    "print('Average time taken per string', '{:.3f}'.format(timeTaken/len(test_transaction)) , '\\n')"
   ]
  },
  {
   "cell_type": "code",
   "execution_count": null,
   "id": "26b0102f",
   "metadata": {},
   "outputs": [],
   "source": []
  }
 ],
 "metadata": {
  "kernelspec": {
   "display_name": "Python 3",
   "language": "python",
   "name": "python3"
  },
  "language_info": {
   "codemirror_mode": {
    "name": "ipython",
    "version": 3
   },
   "file_extension": ".py",
   "mimetype": "text/x-python",
   "name": "python",
   "nbconvert_exporter": "python",
   "pygments_lexer": "ipython3",
   "version": "3.8.10"
  }
 },
 "nbformat": 4,
 "nbformat_minor": 5
}
