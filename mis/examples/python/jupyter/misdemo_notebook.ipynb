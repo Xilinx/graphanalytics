{
 "cells": [
  {
   "cell_type": "markdown",
   "id": "756f62cf",
   "metadata": {},
   "source": [
    "# Welcome to Xilinx Maximal Independent Set Acceleration Demo\n",
    "---\n",
    "This notebook demonstrates how to use the Xilinx Maximal Independent Set (MIS) product and shows the power of Xilinx Alveo FPGAs cards to accelerate MIS.\n",
    "\n",
    "### The demo\n",
    "In this demo, we will use the Xilinx MIS python module (**xilMisPython**) to find MIS on a small synthetic graph stored in Compressed Sparse Row (CSR) format. The graph CSR data is stored in separate row pointer and column index files which are transfered to the Alveo device. The computed MIS on that data is returned as a list of vertex indices."
   ]
  },
  {
   "cell_type": "markdown",
   "id": "56c85949",
   "metadata": {},
   "source": [
    ">**NOTE**: Xilinx MIS module requires atleast ***python 3.6***"
   ]
  },
  {
   "cell_type": "markdown",
   "id": "bb4a17b8",
   "metadata": {},
   "source": [
    "### Setup\n",
    "---\n",
    "Let's start by importing the module and setting up demo variables"
   ]
  },
  {
   "cell_type": "code",
   "execution_count": null,
   "id": "56d02ccd",
   "metadata": {},
   "outputs": [],
   "source": [
    "import xilMisPython as xmis\n",
    "import os\n",
    "import struct\n",
    "import time"
   ]
  },
  {
   "cell_type": "markdown",
   "id": "563c8055",
   "metadata": {},
   "source": [
    "We create a function to read and parse the binary data that CSR graph is stored in:"
   ]
  },
  {
   "cell_type": "code",
   "execution_count": null,
   "id": "ef79bf55",
   "metadata": {},
   "outputs": [],
   "source": [
    "def readBin(filename, readSize):\n",
    "    with open(filename, 'rb') as fh:\n",
    "        fileSize = os.path.getsize(filename)\n",
    "\n",
    "        if 0 < readSize != fileSize:\n",
    "            print(f\"WARNING: file {filename} size {fileSize} doesn't match required size {readSize}\")\n",
    "\n",
    "        assert (fileSize >= readSize)\n",
    "\n",
    "        vec = []\n",
    "        for i in range(int(fileSize/4)):\n",
    "            vec.append(struct.unpack('<i', fh.read(4))[0])  # read bytes as little-endian 4 byte integers\n",
    "\n",
    "    return vec"
   ]
  },
  {
   "cell_type": "markdown",
   "id": "f88ee46b",
   "metadata": {},
   "source": [
    "The run is setup with the following options:\n",
    "- xclbin_path: full path to the Alveo FPGA device executable\n",
    "- deviceNames: full name of the Alveo board to run on (Supported Alveo U50 and U55C)\n",
    "- in_dir: location of the data files\n",
    "\n",
    "The variables here are set from the environment variables in the *run* script used to launch the jupyter server."
   ]
  },
  {
   "cell_type": "code",
   "execution_count": null,
   "id": "35ff690f",
   "metadata": {},
   "outputs": [],
   "source": [
    "xclbin_path = os.environ.get('XCLBIN_FILE')\n",
    "deviceNames = os.environ.get('DEV_NAME')\n",
    "in_dir = os.environ.get('DATA_DIR')"
   ]
  },
  {
   "cell_type": "code",
   "execution_count": null,
   "id": "cd911c64",
   "metadata": {},
   "outputs": [],
   "source": [
    "# set options for MIS\n",
    "opt = xmis.options()\n",
    "opt.xclbinPath = xmis.xString(xclbin_path)\n",
    "opt.deviceNames = xmis.xString(deviceNames)"
   ]
  },
  {
   "cell_type": "code",
   "execution_count": null,
   "id": "7c6c4dfc",
   "metadata": {},
   "outputs": [],
   "source": [
    "# read the input file matrix meta data information stored in infos.txt\n",
    "with open(in_dir + \"/infos.txt\") as fh:\n",
    "    fh.readline()\n",
    "    n = int(fh.readline())\n",
    "    fh.readline()\n",
    "    nz = int(fh.readline())"
   ]
  },
  {
   "cell_type": "markdown",
   "id": "543e662a",
   "metadata": {},
   "source": [
    "### Load Graph and initialize compute\n",
    "---\n",
    "We use the meta data to load graph data as CSR arrays and create a CSR graph object that is part of the Xilinx MIS library"
   ]
  },
  {
   "cell_type": "code",
   "execution_count": null,
   "id": "d9bf91cb",
   "metadata": {},
   "outputs": [],
   "source": [
    "# create CSR arrays and graph object\n",
    "h_rowPtr = readBin(in_dir + \"/rowPtr.bin\", (n + 1) * 4)  # multiplier of 4 for integer data type\n",
    "h_colIdx = readBin(in_dir + \"/colIdx.bin\", nz * 4)       # multiplier of 4 for integer data type\n",
    "\n",
    "graph = xmis.GraphCSR(h_rowPtr, h_colIdx)"
   ]
  },
  {
   "cell_type": "markdown",
   "id": "0279080f",
   "metadata": {},
   "source": [
    "Now let's create the Xilinx MIS object using the options and initialize it with the graph that we just created"
   ]
  },
  {
   "cell_type": "code",
   "execution_count": null,
   "id": "066551dd",
   "metadata": {},
   "outputs": [],
   "source": [
    "# create MIS object\n",
    "mis = xmis.MIS(opt)\n",
    "\n",
    "# initialize MIS object with the graph\n",
    "mis.setGraph(graph)"
   ]
  },
  {
   "cell_type": "markdown",
   "id": "13be2c3e",
   "metadata": {},
   "source": [
    "Next, the Alveo card needs to be prepared for the MIS run. This step involves establishing connection with the Alveo device and program the FPGA with executable binary called xclbin (if not already done)."
   ]
  },
  {
   "cell_type": "code",
   "execution_count": null,
   "id": "ef1dd079",
   "metadata": {},
   "outputs": [],
   "source": [
    "# initialize the FPGA device for MIS run\n",
    "mis.startMis()"
   ]
  },
  {
   "cell_type": "markdown",
   "id": "c4e5cb41",
   "metadata": {},
   "source": [
    "### Execute  MIS\n",
    "---\n",
    "Finally, the computation is executed by calling the following API. This transfers (DMA) data to the Alveo HBMs and runs the Xilinx Maximal Indepdent Set algorithm to finid a large size maximal set. Counters are used here to time the run which shows the incredibly fast return time of the Xilinx MIS librrary."
   ]
  },
  {
   "cell_type": "code",
   "execution_count": null,
   "id": "2eee7157",
   "metadata": {},
   "outputs": [],
   "source": [
    "# execute MIS on FPGA\n",
    "start = time.perf_counter()\n",
    "\n",
    "mis_vertex_list = mis.executeMIS()\n",
    "\n",
    "end = time.perf_counter()\n",
    "elapsed = end-start"
   ]
  },
  {
   "cell_type": "markdown",
   "id": "fd178867",
   "metadata": {},
   "source": [
    "To check the quality of result, the size of the MIS can be found by:"
   ]
  },
  {
   "cell_type": "code",
   "execution_count": null,
   "id": "056a63cc",
   "metadata": {},
   "outputs": [],
   "source": [
    "# get size of the MIS\n",
    "vertex_count = mis.count()  # can also do len(mis_vertex_list)\n",
    "\n",
    "print(f\"\\nFound MIS with {vertex_count} vertices within {elapsed:0.6f} sec\")"
   ]
  }
 ],
 "metadata": {
  "kernelspec": {
   "display_name": "Python 3 (ipykernel)",
   "language": "python",
   "name": "python3"
  },
  "language_info": {
   "codemirror_mode": {
    "name": "ipython",
    "version": 3
   },
   "file_extension": ".py",
   "mimetype": "text/x-python",
   "name": "python",
   "nbconvert_exporter": "python",
   "pygments_lexer": "ipython3",
   "version": "3.6.8"
  }
 },
 "nbformat": 4,
 "nbformat_minor": 5
}
