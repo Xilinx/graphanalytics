{
 "cells": [
  {
   "cell_type": "code",
   "execution_count": 1,
   "id": "11bd22fd",
   "metadata": {},
   "outputs": [],
   "source": [
    "import xilMisPython as xmis\n",
    "import os\n",
    "import argparse\n",
    "import struct\n",
    "import time"
   ]
  },
  {
   "cell_type": "code",
   "execution_count": 2,
   "id": "cd911c64",
   "metadata": {},
   "outputs": [],
   "source": [
    "def readBin(filename, readSize):\n",
    "    with open(filename, 'rb') as fh:\n",
    "        fileSize = os.path.getsize(filename)\n",
    "\n",
    "        if 0 < readSize != fileSize:\n",
    "            print(f\"WARNING: file {filename} size {fileSize} doesn't match required size {readSize}\")\n",
    "\n",
    "        assert (fileSize >= readSize)\n",
    "\n",
    "        vec = []\n",
    "        for i in range(int(fileSize/4)):\n",
    "            vec.append(struct.unpack('<i', fh.read(4))[0])  # read bytes as little-endian 4 byte integers\n",
    "\n",
    "    return vec"
   ]
  },
  {
   "cell_type": "code",
   "execution_count": 3,
   "id": "98511ee5",
   "metadata": {},
   "outputs": [],
   "source": [
    "xclbin_path = os.environ.get('XCLBIN_FILE')\n",
    "deviceNames = os.environ.get('DEV_NAME')\n",
    "in_dir = os.environ.get('DATA_DIR')"
   ]
  },
  {
   "cell_type": "code",
   "execution_count": 4,
   "id": "7c6c4dfc",
   "metadata": {},
   "outputs": [],
   "source": [
    "# search for input file matrix meta data information stored in infos.txt\n",
    "with open(in_dir + \"/infos.txt\") as fh:\n",
    "    fh.readline()\n",
    "    n = int(fh.readline())\n",
    "    fh.readline()\n",
    "    nz = int(fh.readline())"
   ]
  },
  {
   "cell_type": "code",
   "execution_count": 5,
   "id": "d8d015a2",
   "metadata": {},
   "outputs": [],
   "source": [
    "# set options for MIS\n",
    "opt = xmis.options()\n",
    "opt.xclbinPath = xmis.xString(xclbin_path)\n",
    "opt.deviceNames = xmis.xString(deviceNames)"
   ]
  },
  {
   "cell_type": "code",
   "execution_count": 6,
   "id": "066551dd",
   "metadata": {},
   "outputs": [],
   "source": [
    "# create MIS object\n",
    "mis = xmis.MIS(opt)"
   ]
  },
  {
   "cell_type": "code",
   "execution_count": 7,
   "id": "ad62a855",
   "metadata": {},
   "outputs": [],
   "source": [
    "# create CSR arrays and graph object\n",
    "h_rowPtr = readBin(in_dir + \"/rowPtr.bin\", (n + 1) * 4)  # multiplier of 4 for integer data type\n",
    "h_colIdx = readBin(in_dir + \"/colIdx.bin\", nz * 4)       # multiplier of 4 for integer data type\n",
    "graph = xmis.GraphCSR(h_rowPtr, h_colIdx)"
   ]
  },
  {
   "cell_type": "code",
   "execution_count": 8,
   "id": "671a4c3e",
   "metadata": {},
   "outputs": [],
   "source": [
    "# initialize MIS object with the graph\n",
    "mis.setGraph(graph)"
   ]
  },
  {
   "cell_type": "code",
   "execution_count": 9,
   "id": "ef1dd079",
   "metadata": {},
   "outputs": [],
   "source": [
    "# initialize the FPGA device for MIS run\n",
    "mis.startMis()"
   ]
  },
  {
   "cell_type": "code",
   "execution_count": 12,
   "id": "2eee7157",
   "metadata": {},
   "outputs": [],
   "source": [
    "# execute MIS on FPGA\n",
    "start = time.perf_counter()\n",
    "mis_vertex_list = mis.executeMIS()\n",
    "end = time.perf_counter()\n",
    "elapsed = end-start"
   ]
  },
  {
   "cell_type": "code",
   "execution_count": 13,
   "id": "056a63cc",
   "metadata": {},
   "outputs": [
    {
     "name": "stdout",
     "output_type": "stream",
     "text": [
      "\n",
      "Found MIS with 25 vertices within 0.000911 sec\n"
     ]
    }
   ],
   "source": [
    "# get size of the MIS\n",
    "vertex_count = mis.count()  # can also do len(mis_vertex_list)\n",
    "\n",
    "print(f\"\\nFound MIS with {vertex_count} vertices within {elapsed:0.6f} sec\")"
   ]
  },
  {
   "cell_type": "code",
   "execution_count": null,
   "id": "d793207d",
   "metadata": {},
   "outputs": [],
   "source": []
  }
 ],
 "metadata": {
  "kernelspec": {
   "display_name": "Python 3 (ipykernel)",
   "language": "python",
   "name": "python3"
  },
  "language_info": {
   "codemirror_mode": {
    "name": "ipython",
    "version": 3
   },
   "file_extension": ".py",
   "mimetype": "text/x-python",
   "name": "python",
   "nbconvert_exporter": "python",
   "pygments_lexer": "ipython3",
   "version": "3.6.8"
  }
 },
 "nbformat": 4,
 "nbformat_minor": 5
}
