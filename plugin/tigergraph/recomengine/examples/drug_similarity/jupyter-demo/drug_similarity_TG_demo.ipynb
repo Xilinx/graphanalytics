{
 "cells": [
  {
   "cell_type": "markdown",
   "id": "de5ae5a2",
   "metadata": {},
   "source": [
    "# Welcome to Xilinx Cosine Similarity Acceleration Demo \n",
    "---\n",
    "\n",
    "**This Notebook demonstrates how to use the Xilinx Cosine Similarity product and shows the power of Xilinx FPGAs to accelerate Cosine Similarity**\n",
    "\n",
    "---\n",
    "\n",
    "### The Demo : Drug Similarity \n",
    "\n",
    "In this Demo Example, we will try to find similar Drugs/Healthcare terms from the [Unified Medical Language System (UMLS)](https://www.nlm.nih.gov/research/umls/quickstart.html) Dataset. UMLS is a collection of health and biomedical vocabularies from a wide variety of Healthcare data sources. One of the knowledge source in UMLS is a [Metathesaurus](https://www.nlm.nih.gov/research/umls/knowledge_sources/metathesaurus/index.html) that is a collection of medical concepts called <b>atoms</b> and links them through useful relationships.\n",
    "\n",
    "For the purpose of this demo, we use a small subset of the <b>atoms</b> file <I>MRCONSO.RRF</I> and use relationships between atoms from the relationships file <I>MRREL.RRF</I>. The atoms and their relations are modeled as a graph database using [TigerGraph Enterprise Database](https://www.tigergraph.com/) and [Cosine Similarity](https://en.wikipedia.org/wiki/Cosine_similarity) is used as the match similarity measure. Xilinx Cosine Similarity library is used to accelerate the similarity score computation by offloading to [Xilinx Alveo U50](https://www.xilinx.com/products/boards-and-kits/alveo/u50.html) FPGA cards.\n",
    "\n",
    "Each atom is converted into an embedding representation by probabilistically capturing their relations. We use the [Node2Vec](https://docs.tigergraph.com/tigergraph-platform-overview/graph-algorithm-library#node-2-vec) algorithm to compute embeddings for each atom vertex in the graph.\n",
    "\n",
    "This Example selects a random vertex in the graph as the query and filters out the UMLS Database and returns the Top Matching similar drugs, drug ingredients or related healthcare concepts.\n",
    "\n",
    "In General, finding Cosine Similarity on large datasets take a large amount of time on CPU.\n",
    "\n",
    "With the Xilinx Cosine Similarity Acceleration, speedups > ~ 80x can be achieved.\n",
    "\n",
    "We will use the Xilinx Cosine Similarity in the backend and setup a Drug Database against which similarity of target vectors can be calculated.\n",
    "\n",
    " \n",
    "### The Demo is Structured into Seven Sections :\n",
    "\n",
    "1. [**Create New Graph**](#newg)\n",
    "<br><br>\n",
    "2. [**Create Graph Schema**](#schema)\n",
    "<br><br>\n",
    "3. [**Load Graph Data**](#loadd)\n",
    "<br><br>\n",
    "4. [**Install Queries**](#install)\n",
    "<br><br>\n",
    "5. [**Create Embeddings**](#embed)\n",
    "<br><br>\n",
    "6. [**Send Embeddings to FPGA**](#send)\n",
    "<br><br>\n",
    "7. [**Compute Cosine Similarity**](#run)\n",
    "\n",
    "---\n",
    "Steps [ 1 - 6 ] are **One-Time** preparation of the Database. \n",
    "\n",
    "Step [ 7 ] is **Repeatable** use of Query to run *accelerated* similarity computation on FPGA \n",
    "\n",
    "---"
   ]
  },
  {
   "cell_type": "markdown",
   "id": "b41f153e",
   "metadata": {},
   "source": [
    "### Prerequisites <a id=\"prerequisites\"></a> :"
   ]
  },
  {
   "cell_type": "markdown",
   "id": "fa8f3438",
   "metadata": {},
   "source": [
    "#### Load Necessary Libraries "
   ]
  },
  {
   "cell_type": "code",
   "execution_count": 1,
   "id": "8fa618b9",
   "metadata": {},
   "outputs": [],
   "source": [
    "import time\n",
    "import random as rand\n",
    "from pathlib import Path, PurePosixPath\n",
    "import pyTigerGraph as tg\n",
    "import os\n",
    "from shutil import copyfile"
   ]
  },
  {
   "cell_type": "markdown",
   "id": "33fc4d9b",
   "metadata": {},
   "source": [
    "#### Check the Python version. It should be 3.6"
   ]
  },
  {
   "cell_type": "code",
   "execution_count": 2,
   "id": "2d963200",
   "metadata": {},
   "outputs": [
    {
     "name": "stdout",
     "output_type": "stream",
     "text": [
      "3.6.9\n"
     ]
    }
   ],
   "source": [
    "from platform import python_version\n",
    "print(python_version())"
   ]
  },
  {
   "cell_type": "markdown",
   "id": "1510d92a",
   "metadata": {},
   "source": [
    "#### Provide the Host Name, User Name & Password"
   ]
  },
  {
   "cell_type": "code",
   "execution_count": 3,
   "id": "a7a36813",
   "metadata": {},
   "outputs": [],
   "source": [
    "hostName = \"localhost\"                            # TG server hostname\n",
    "userName = \"tigergraph\"                           # TG user name\n",
    "passWord = \"tigergraph\"                           # TG password"
   ]
  },
  {
   "cell_type": "markdown",
   "id": "30c1be1d",
   "metadata": {},
   "source": [
    "#### Provide the number of results 'topK' to find & Number of U50 Cards installed on System"
   ]
  },
  {
   "cell_type": "code",
   "execution_count": 4,
   "id": "caf50087",
   "metadata": {},
   "outputs": [],
   "source": [
    "topK = 10                                         # Number of highest scoring drugs\n",
    "numDevices = 1                                    # Number of FPGA devices to distribute the queries to"
   ]
  },
  {
   "cell_type": "markdown",
   "id": "f18c5025",
   "metadata": {},
   "source": [
    "#### Path Setup"
   ]
  },
  {
   "cell_type": "markdown",
   "id": "5eb6a722",
   "metadata": {},
   "source": [
    "**Local**: Location of query files under the Xilinx graphanalytics github repo. Set location of the local repo."
   ]
  },
  {
   "cell_type": "code",
   "execution_count": 5,
   "id": "b1b0ba76",
   "metadata": {},
   "outputs": [],
   "source": [
    "localRepoLocation = Path(\"/opt/xilinx/apps\")\n",
    "exampleLocation = Path(\"graphanalytics/integration/Tigergraph-3.x/1.2/examples/drug_similarity/\") # when running from github repo\n",
    "queryFileLocation = localRepoLocation / exampleLocation / \"query\""
   ]
  },
  {
   "cell_type": "markdown",
   "id": "85ba282c",
   "metadata": {},
   "source": [
    "**Remote**: Location of UMLS data on the server. **NOTE**: Data should exist on the TigerGraph server"
   ]
  },
  {
   "cell_type": "code",
   "execution_count": 6,
   "id": "2d2455d2",
   "metadata": {},
   "outputs": [
    {
     "data": {
      "text/plain": [
       "'/tmp/embeddings.csv'"
      ]
     },
     "execution_count": 6,
     "metadata": {},
     "output_type": "execute_result"
    }
   ],
   "source": [
    "serverRepoLocation = PurePosixPath(\"/opt/xilinx/apps\")\n",
    "serverDataLocation = serverRepoLocation / PurePosixPath(exampleLocation) / \"data\"\n",
    "copyfile(str(serverDataLocation / \"csv/embeddings.csv\"), \"/tmp/embeddings.csv\")"
   ]
  },
  {
   "cell_type": "markdown",
   "id": "b6c3452c",
   "metadata": {},
   "source": [
    "---\n",
    "### 1. Create New Graph <a id=\"newg\"></a>\n",
    "- Connect to TigerGraph server by ommiting graph name. This is needed to establish a valid REST endpoint that will be used to create a new desired graph\n",
    "- Create new graph by using gsql command and create a new connection with the new graph"
   ]
  },
  {
   "cell_type": "code",
   "execution_count": 7,
   "id": "7ab25232",
   "metadata": {},
   "outputs": [
    {
     "name": "stdout",
     "output_type": "stream",
     "text": [
      "\n",
      "--------- Creating New graph ----------\n",
      "Semantic Check Fails: The graph name conflicts with another type or existing graph names! Please use a different name.\n",
      "The graph xgraph_drugsim_tigergraph could not be created!\n",
      "Using graph xgraph_drugsim_tigergraph\n"
     ]
    }
   ],
   "source": [
    "graphName = f'xgraph_drugsim_{userName}'\n",
    "conn = tg.TigerGraphConnection(host='http://' + hostName, graphname='', username=userName, password=passWord, useCert=False)\n",
    "print(\"\\n--------- Creating New graph ----------\")\n",
    "print(conn.gsql(f'create graph {graphName}()', options=[]))\n",
    "\n",
    "# connect to TG server with new graph\n",
    "print(f'Using graph {graphName}')\n",
    "conn = tg.TigerGraphConnection(host='http://' + hostName, graphname=graphName, username=userName, password=passWord, useCert=False)"
   ]
  },
  {
   "cell_type": "markdown",
   "id": "75a09551",
   "metadata": {},
   "source": [
    "### 2. Create Graph Schema <a id=\"schema\"></a>\n",
    "TigerGraph stores graph in the form of vertices that can be associated with other vertices using directed or undirected edges. This is specified in the form of a graph schema. For the purpose of this demo, the schema is already defined as a query file. Load the file, set graph name and run it as gsql commands. \n",
    "\n",
    "The user can create schema for their own graph in a similar way. "
   ]
  },
  {
   "cell_type": "code",
   "execution_count": 8,
   "id": "45bca977",
   "metadata": {},
   "outputs": [
    {
     "name": "stdout",
     "output_type": "stream",
     "text": [
      "\n",
      "--------- Creating New Schema ----------\n",
      "Using graph 'xgraph_drugsim_tigergraph'\n",
      "All jobs are dropped.\n",
      "The query client_cosinesim_embed_vectors is dropped.\n",
      "The query client_cosinesim_get_alveo_status is dropped.\n",
      "The query cosinesim_get_num_devices is dropped.\n",
      "The query cosinesim_embed_vectors is dropped.\n",
      "The query node2vec_query is dropped.\n",
      "The query remove_dangling_vertices is dropped.\n",
      "The query cosinesim_clear_embeddings is dropped.\n",
      "The query cosinesim_set_num_devices is dropped.\n",
      "The query random_walk is dropped.\n",
      "The query client_cosinesim_load_alveo is dropped.\n",
      "The query create_embeddings is dropped.\n",
      "The query cosinesim_match_sw is dropped.\n",
      "The query atom_embedding is dropped.\n",
      "The query client_cosinesim_embed_normals is dropped.\n",
      "The query client_cosinesim_match_sw is dropped.\n",
      "The query client_cosinesim_match_alveo is dropped.\n",
      "The query load_node2vec is dropped.\n",
      "The query cosinesim_ss_fpga_core is dropped.\n",
      "The query client_cosinesim_set_num_devices is dropped.\n",
      "The query load_graph_cosinesim_ss_fpga_core is dropped.\n",
      "The query cosinesim_embed_normals is dropped.\n",
      "The query cosinesim_is_fpga_initialized is dropped.\n",
      "All queries are dropped.\n",
      "The graph xgraph_drugsim_tigergraph is dropped.\n",
      "The graph xgraph_drugsim_tigergraph is created.\n",
      "The job job_schema_change_local is created.\n",
      "\n",
      "Current graph version 0\n",
      "Trying to add vertex Atom.\n",
      "Trying to add edge AQ.\n",
      "Trying to add edge QB.\n",
      "Trying to add edge CHD.\n",
      "Trying to add edge PAR.\n",
      "Trying to add edge RB.\n",
      "Trying to add edge RN.\n",
      "Trying to add edge RL.\n",
      "Trying to add edge RO.\n",
      "Trying to add edge RQ.\n",
      "Trying to add edge RU.\n",
      "Trying to add edge SIB.\n",
      "Kick off job job_schema_change_local\n",
      "\n",
      "Graph xgraph_drugsim_tigergraph update to new version 1\n",
      "The job job_schema_change_local completes in 7.782 seconds!\n",
      "The job job_schema_change_local is dropped!\n"
     ]
    }
   ],
   "source": [
    "print(\"\\n--------- Creating New Schema ----------\")\n",
    "schemaFile = queryFileLocation / \"schema_xgraph.gsql\"\n",
    "\n",
    "with open(schemaFile) as fh:\n",
    "    qStrRaw = fh.read()\n",
    "    qStr = qStrRaw.replace('@graph', graphName)\n",
    "    print(conn.gsql(qStr))"
   ]
  },
  {
   "cell_type": "markdown",
   "id": "a8fe8f49",
   "metadata": {},
   "source": [
    "### 3. Load Graph Data <a id=\"loadd\"></a>\n",
    "The UMLS data is split into files. Each Atom Entry attribute (vertex attributes in the schema) is loaded from the Metathesaurus. Each file is loaded and parsed. Open the load query file and, set graph name and location of the data files."
   ]
  },
  {
   "cell_type": "code",
   "execution_count": 9,
   "id": "c73128d9",
   "metadata": {},
   "outputs": [
    {
     "name": "stdout",
     "output_type": "stream",
     "text": [
      "\n",
      "--------- Loading data into graph ----------\n",
      "Using graph 'xgraph_drugsim_tigergraph'\n",
      "The job load_xgraph is created.\n",
      "\u001b[2A\n",
      "\u001b[2K\n",
      "\u001b[2K\n",
      "Using graph 'xgraph_drugsim_tigergraph'\n",
      "[Tip: Use \"CTRL + C\" to stop displaying the loading status update, then use \"SHOW LOADING STATUS jobid\" to track the loading progress again]\n",
      "[Tip: Manage loading jobs with \"ABORT/RESUME LOADING JOB jobid\"]\n",
      "Starting the following job, i.e.\n",
      "JobName: load_xgraph, jobid: xgraph_drugsim_tigergraph.load_xgraph.file.m1.1627455198237\n",
      "Loading log: '/home2/tigergraph/tigergraph/log/restpp/restpp_loader_logs/xgraph_drugsim_tigergraph/xgraph_drugsim_tigergraph.load_xgraph.file.m1.1627455198237.log'\n",
      "\n",
      "Job \"xgraph_drugsim_tigergraph.load_xgraph.file.m1.1627455198237\" loading status\n",
      "[RUNNING] m1 ( Finished: 0 / Total: 2 )\n",
      "Job \"xgraph_drugsim_tigergraph.load_xgraph.file.m1.1627455198237\" loading status\n",
      "[FINISHED] m1 ( Finished: 2 / Total: 2 )\n",
      "[LOADED]\n",
      "+--------------------------------------------------------------------------------------------------------------------------------------------------------+\n",
      "|                                                                                                    FILENAME |   LOADED LINES |   AVG SPEED |   DURATION|\n",
      "|/opt/xilinx/apps/graphanalytics/integration/Tigergraph-3.x/1.2/examples/drug_similarity/data/RRF/MRCONSO.RRF |           4967 |      4 kl/s |     1.00 s|\n",
      "|  /opt/xilinx/apps/graphanalytics/integration/Tigergraph-3.x/1.2/examples/drug_similarity/data/RRF/MRREL.RRF |          13963 |     13 kl/s |     1.00 s|\n",
      "+--------------------------------------------------------------------------------------------------------------------------------------------------------+\n",
      "Using graph 'xgraph_drugsim_tigergraph'\n",
      "The job load_xgraph is dropped!\n"
     ]
    }
   ],
   "source": [
    "print(\"\\n--------- Loading data into graph ----------\")\n",
    "loadFile = queryFileLocation / \"load_xgraph.gsql\"\n",
    "\n",
    "with open(loadFile) as fh:\n",
    "    qStrRaw = fh.read()\n",
    "    qStrRaw = qStrRaw.replace('@graph', graphName)\n",
    "    qStr    = qStrRaw.replace('$sys.data_root', str(serverDataLocation))\n",
    "    print(conn.gsql(qStr))\n",
    "    print(conn.gsql(f\"USE GRAPH {graphName}\\n RUN LOADING JOB load_xgraph\"))\n",
    "    print(conn.gsql(f\"USE GRAPH {graphName}\\n DROP JOB load_xgraph\"))"
   ]
  },
  {
   "cell_type": "markdown",
   "id": "b53bb403",
   "metadata": {},
   "source": [
    "### 4. Install Queries <a id=\"install\"></a>\n",
    "The cosine similarity application functionality is implemented using gsql queries and UDF functions. The Node2Vec algorithm used in this demo is implemented partly as a query, partly as a UDF. UDFs are installed into Tigergraph as a plugin beforehand, while the queries need to be installed for the graph before running.\n",
    "\n",
    "The user can create their own queries and install them instead. If user writes their own UDFs, they will need to be compilled and opened as a TigerGraph Plugin (this is not covered in the scope of this demo)."
   ]
  },
  {
   "cell_type": "code",
   "execution_count": 10,
   "id": "4e839459",
   "metadata": {
    "scrolled": true
   },
   "outputs": [
    {
     "name": "stdout",
     "output_type": "stream",
     "text": [
      "\n",
      "--------- Installing Queries ----------\n",
      "installing base queries ...\n",
      "[                                                                                   ] 0% (0/15)\n",
      "[                                                                                   ] 0% (0/15)\n",
      "[===                                                                                ] 3% (0/15)\n",
      "[======                                                                             ] 7% (1/15)\n",
      "[=========                                                                          ] 10% (1/15)\n",
      "[============                                                                       ] 14% (2/15)\n",
      "[===============                                                                    ] 17% (2/15)\n",
      "[==================                                                                 ] 21% (3/15)\n",
      "[====================                                                               ] 24% (3/15)\n",
      "[========================                                                           ] 28% (4/15)\n",
      "[==========================                                                         ] 31% (4/15)\n",
      "[==============================                                                     ] 35% (5/15)\n",
      "[================================                                                   ] 38% (5/15)\n",
      "[===================================                                                ] 42% (6/15)\n",
      "[======================================                                             ] 45% (6/15)\n",
      "[=========================================                                          ] 49% (7/15)\n",
      "[============================================                                       ] 52% (7/15)\n",
      "[===============================================                                    ] 56% (8/15)\n",
      "[=================================================                                  ] 59% (8/15)\n",
      "[=====================================================                              ] 63% (9/15)\n",
      "[=======================================================                            ] 66% (9/15)\n",
      "[===========================================================                        ] 70% (10/15)\n",
      "[=============================================================                      ] 73% (10/15)\n",
      "[================================================================                   ] 77% (11/15)\n",
      "[===================================================================                ] 80% (12/15)\n",
      "[======================================================================             ] 84% (12/15)\n",
      "[=========================================================================          ] 87% (13/15)\n",
      "[============================================================================       ] 91% (13/15)\n",
      "[===============================================================================    ] 95% (14/15)\n",
      "[===================================================================================] 100% (15/15)\n",
      "\n",
      "Using graph 'xgraph_drugsim_tigergraph'\n",
      "All queries are dropped.\n",
      "The query random_walk has been added!\n",
      "The query node2vec_query has been added!\n",
      "The query load_node2vec has been added!\n",
      "The query create_embeddings has been added!\n",
      "The query remove_dangling_vertices has been added!\n",
      "The query atom_embedding has been added!\n",
      "The query cosinesim_clear_embeddings has been added!\n",
      "The query cosinesim_embed_vectors has been added!\n",
      "The query cosinesim_embed_normals has been added!\n",
      "The query cosinesim_match_sw has been added!\n",
      "The query cosinesim_set_num_devices has been added!\n",
      "The query cosinesim_get_num_devices has been added!\n",
      "The query cosinesim_is_fpga_initialized has been added!\n",
      "The query load_graph_cosinesim_ss_fpga_core has been added!\n",
      "The query cosinesim_ss_fpga_core has been added!\n",
      "Start installing queries, about 1 minute ...\n",
      "cosinesim_get_num_devices query: curl -X GET 'http://127.0.0.1:9000/query/xgraph_drugsim_tigergraph/cosinesim_get_num_devices'. Add -H \"Authorization: Bearer TOKEN\" if authentication is enabled.\n",
      "cosinesim_embed_vectors query: curl -X GET 'http://127.0.0.1:9000/query/xgraph_drugsim_tigergraph/cosinesim_embed_vectors'. Add -H \"Authorization: Bearer TOKEN\" if authentication is enabled.\n",
      "node2vec_query query: curl -X GET 'http://127.0.0.1:9000/query/xgraph_drugsim_tigergraph/node2vec_query?[filepath=VALUE]&dimension=VALUE'. Add -H \"Authorization: Bearer TOKEN\" if authentication is enabled.\n",
      "remove_dangling_vertices query: curl -X GET 'http://127.0.0.1:9000/query/xgraph_drugsim_tigergraph/remove_dangling_vertices'. Add -H \"Authorization: Bearer TOKEN\" if authentication is enabled.\n",
      "cosinesim_clear_embeddings query: curl -X GET 'http://127.0.0.1:9000/query/xgraph_drugsim_tigergraph/cosinesim_clear_embeddings'. Add -H \"Authorization: Bearer TOKEN\" if authentication is enabled.\n",
      "cosinesim_set_num_devices query: curl -X GET 'http://127.0.0.1:9000/query/xgraph_drugsim_tigergraph/cosinesim_set_num_devices?num_devices=VALUE'. Add -H \"Authorization: Bearer TOKEN\" if authentication is enabled.\n",
      "random_walk query: curl -X GET 'http://127.0.0.1:9000/query/xgraph_drugsim_tigergraph/random_walk?[step=VALUE]&[path_size=VALUE]&[filepath=VALUE]&edge_types=VALUE&sample_num=VALUE'. Add -H \"Authorization: Bearer TOKEN\" if authentication is enabled.\n",
      "create_embeddings query: curl -X GET 'http://127.0.0.1:9000/query/xgraph_drugsim_tigergraph/create_embeddings'. Add -H \"Authorization: Bearer TOKEN\" if authentication is enabled.\n",
      "cosinesim_match_sw query: curl -X GET 'http://127.0.0.1:9000/query/xgraph_drugsim_tigergraph/cosinesim_match_sw?source=VALUE&topKID=VALUE'. Add -H \"Authorization: Bearer TOKEN\" if authentication is enabled.\n",
      "atom_embedding query: curl -X GET 'http://127.0.0.1:9000/query/xgraph_drugsim_tigergraph/atom_embedding?targetAtom=VALUE'. Add -H \"Authorization: Bearer TOKEN\" if authentication is enabled.\n",
      "load_node2vec query: curl -X GET 'http://127.0.0.1:9000/query/xgraph_drugsim_tigergraph/load_node2vec?[filepath=VALUE]&dimension=VALUE'. Add -H \"Authorization: Bearer TOKEN\" if authentication is enabled.\n",
      "cosinesim_ss_fpga_core query: curl -X GET 'http://127.0.0.1:9000/query/xgraph_drugsim_tigergraph/cosinesim_ss_fpga_core?source=VALUE&topK=VALUE'. Add -H \"Authorization: Bearer TOKEN\" if authentication is enabled.\n",
      "load_graph_cosinesim_ss_fpga_core query: curl -X GET 'http://127.0.0.1:9000/query/xgraph_drugsim_tigergraph/load_graph_cosinesim_ss_fpga_core'. Add -H \"Authorization: Bearer TOKEN\" if authentication is enabled.\n",
      "cosinesim_embed_normals query: curl -X GET 'http://127.0.0.1:9000/query/xgraph_drugsim_tigergraph/cosinesim_embed_normals'. Add -H \"Authorization: Bearer TOKEN\" if authentication is enabled.\n",
      "cosinesim_is_fpga_initialized query: curl -X GET 'http://127.0.0.1:9000/query/xgraph_drugsim_tigergraph/cosinesim_is_fpga_initialized'. Add -H \"Authorization: Bearer TOKEN\" if authentication is enabled.\n",
      "\n",
      "\n",
      "installing client queries ...\n",
      "[                                                                                     ] 0% (0/7)\n",
      "[                                                                                     ] 0% (0/7)\n",
      "[==========                                                                           ] 11% (0/7)\n",
      "[====================                                                                 ] 23% (1/7)\n",
      "[==============================                                                       ] 35% (2/7)\n",
      "[========================================                                             ] 47% (3/7)\n",
      "[===================================================                                  ] 59% (4/7)\n",
      "[=============================================================                        ] 71% (4/7)\n",
      "[=======================================================================              ] 83% (5/7)\n",
      "[=================================================================================    ] 95% (6/7)\n",
      "[=====================================================================================] 100% (7/7)\n",
      "\n",
      "Using graph 'xgraph_drugsim_tigergraph'\n",
      "Query client_cosinesim_embed_vectors could not be found.\n",
      "Query client_cosinesim_embed_normals could not be found.\n",
      "Query client_cosinesim_match_sw could not be found.\n",
      "Query client_cosinesim_set_num_devices could not be found.\n",
      "Query client_cosinesim_get_alveo_status could not be found.\n",
      "Query client_cosinesim_load_alveo could not be found.\n",
      "Query client_cosinesim_match_alveo could not be found.\n",
      "The query client_cosinesim_embed_vectors has been added!\n",
      "The query client_cosinesim_embed_normals has been added!\n",
      "The query client_cosinesim_match_sw has been added!\n",
      "The query client_cosinesim_set_num_devices has been added!\n",
      "The query client_cosinesim_get_alveo_status has been added!\n",
      "The query client_cosinesim_load_alveo has been added!\n",
      "The query client_cosinesim_match_alveo has been added!\n",
      "Start installing queries, about 1 minute ...\n",
      "client_cosinesim_embed_vectors query: curl -X GET 'http://127.0.0.1:9000/query/xgraph_drugsim_tigergraph/client_cosinesim_embed_vectors'. Add -H \"Authorization: Bearer TOKEN\" if authentication is enabled.\n",
      "client_cosinesim_get_alveo_status query: curl -X GET 'http://127.0.0.1:9000/query/xgraph_drugsim_tigergraph/client_cosinesim_get_alveo_status'. Add -H \"Authorization: Bearer TOKEN\" if authentication is enabled.\n",
      "client_cosinesim_load_alveo query: curl -X GET 'http://127.0.0.1:9000/query/xgraph_drugsim_tigergraph/client_cosinesim_load_alveo'. Add -H \"Authorization: Bearer TOKEN\" if authentication is enabled.\n",
      "client_cosinesim_embed_normals query: curl -X GET 'http://127.0.0.1:9000/query/xgraph_drugsim_tigergraph/client_cosinesim_embed_normals'. Add -H \"Authorization: Bearer TOKEN\" if authentication is enabled.\n",
      "client_cosinesim_match_sw query: curl -X GET 'http://127.0.0.1:9000/query/xgraph_drugsim_tigergraph/client_cosinesim_match_sw?queryRecord=VALUE&topK=VALUE'. Add -H \"Authorization: Bearer TOKEN\" if authentication is enabled.\n",
      "client_cosinesim_match_alveo query: curl -X GET 'http://127.0.0.1:9000/query/xgraph_drugsim_tigergraph/client_cosinesim_match_alveo?queryRecord=VALUE&topK=VALUE'. Add -H \"Authorization: Bearer TOKEN\" if authentication is enabled.\n",
      "client_cosinesim_set_num_devices query: curl -X GET 'http://127.0.0.1:9000/query/xgraph_drugsim_tigergraph/client_cosinesim_set_num_devices?numDevices=VALUE'. Add -H \"Authorization: Bearer TOKEN\" if authentication is enabled.\n",
      "\n"
     ]
    }
   ],
   "source": [
    "print(\"\\n--------- Installing Queries ----------\")\n",
    "baseQFile = queryFileLocation / \"base.gsql\"\n",
    "clientQFile = queryFileLocation / \"client.gsql\"\n",
    "\n",
    "with open(baseQFile) as bfh, open(clientQFile) as cfh:\n",
    "    print(\"installing base queries ...\")\n",
    "    qStrRaw = bfh.read()\n",
    "    qStr = qStrRaw.replace('@graph', graphName)\n",
    "    print(conn.gsql(qStr))\n",
    "    \n",
    "    print(\"\\ninstalling client queries ...\")\n",
    "    qStrRaw = cfh.read()\n",
    "    qStr = qStrRaw.replace('@graph', graphName)\n",
    "    print(conn.gsql(qStr))"
   ]
  },
  {
   "cell_type": "markdown",
   "id": "f61f32fe",
   "metadata": {},
   "source": [
    "Now that queries are installed, rest of the operations can be performed simply by running the queries as follows.\n",
    "\n",
    "### 5. Create Embeddings <a id=\"embed\"></a>\n",
    "---\n",
    "As seen earlier in the schema, each Drug Record has a set of attributes and is represented as a vertex. Drug Record or Atom relations/connections are embedded into a vector representation called embeddings which are then stored as part of the vertices themselves. Read more about Node2Vec [here](https://en.wikipedia.org/wiki/Node2vec)"
   ]
  },
  {
   "cell_type": "code",
   "execution_count": 11,
   "id": "4f251110",
   "metadata": {},
   "outputs": [
    {
     "name": "stdout",
     "output_type": "stream",
     "text": [
      "Creating Drug concept embeddings and storing them in Atom vertices...\n",
      "completed in 12.2411 sec\n"
     ]
    }
   ],
   "source": [
    "print('Creating Drug concept embeddings and storing them in Atom vertices...')\n",
    "tStart = time.perf_counter()\n",
    "conn.runInstalledQuery('client_cosinesim_embed_vectors', timeout=240000000)\n",
    "conn.runInstalledQuery('client_cosinesim_embed_normals', timeout=240000000)\n",
    "print(f'completed in {time.perf_counter() - tStart:.4f} sec')"
   ]
  },
  {
   "cell_type": "markdown",
   "id": "1811703d",
   "metadata": {},
   "source": [
    "### 6. Send embeddings to FPGA <a id=\"send\"></a>\n",
    "---\n",
    "Finally, the embeddings are collected in a buffer which is sent/copied to HBM memory on the FPGA device. "
   ]
  },
  {
   "cell_type": "code",
   "execution_count": 12,
   "id": "651b3ce9",
   "metadata": {},
   "outputs": [
    {
     "name": "stdout",
     "output_type": "stream",
     "text": [
      "Loading data into FPGA memory...\n",
      "completed in 0.2258 sec\n",
      "\n",
      "FPGA Init: True, Dev: 1\n",
      "\n"
     ]
    }
   ],
   "source": [
    "print('Loading data into FPGA memory...')\n",
    "# set number of FPGAs to use\n",
    "conn.runInstalledQuery('client_cosinesim_set_num_devices', {'numDevices': numDevices}, timeout=240000000)\n",
    "\n",
    "# distribute data to FPGA memory\n",
    "tStart = time.perf_counter()\n",
    "resultHwLoad = conn.runInstalledQuery('client_cosinesim_load_alveo', timeout=240000000)\n",
    "print(f'completed in {time.perf_counter() - tStart:.4f} sec\\n')\n",
    "\n",
    "# Check status\n",
    "status = conn.runInstalledQuery('client_cosinesim_get_alveo_status', timeout=240000000)\n",
    "isInit = status[0][\"IsInitialized\"]\n",
    "numDev = status[0][\"NumDevices\"]\n",
    "print(f'FPGA Init: {isInit}, Dev: {numDev}\\n')"
   ]
  },
  {
   "cell_type": "markdown",
   "id": "f092c771",
   "metadata": {},
   "source": [
    "#### Definations to get Drug Record/Atom and Print the TopK Matchings"
   ]
  },
  {
   "cell_type": "code",
   "execution_count": 13,
   "id": "ba0e96ea",
   "metadata": {},
   "outputs": [],
   "source": [
    "def getRecord(id):\n",
    "    recordList = conn.getVerticesById('Atom', id)\n",
    "    return [] if len(recordList) == 0 else recordList[0]\n",
    "\n",
    "def printResults(result, newRecord):\n",
    "    matches = result[0]['Matches']\n",
    "    print(f\"Matches for Record: {newRecord['attributes']['atom_id']} {newRecord['attributes']['string_text']}\\n\")\n",
    "    print(\"RANK   ATOM ID    Concept Description\" + 50*\" \" + \"Confidence\")\n",
    "    print(\"----|-----------|\" + 60*\"-\" + \"|------------\")\n",
    "    i = 0\n",
    "    for m in matches:\n",
    "        matchingRecord = getRecord(m['Id'])\n",
    "        print(f\" {i+1:02d}   {matchingRecord['attributes']['atom_id']:13} {matchingRecord['attributes']['string_text'][:55]:60} {m['score']:.6f}\")\n",
    "        i += 1"
   ]
  },
  {
   "cell_type": "markdown",
   "id": "aa334aea",
   "metadata": {},
   "source": [
    "This completes the TigerGraph database and consine similiarity compute preparation. We can now run as many similarity queries as we want. \n",
    "\n",
    "### 7. Compute Cosine Similarity <a id=\"run\"></a>\n",
    "---\n",
    "For the purpose of this demo, we get the first 100 Atoms and choose one at random. Atoms are represented by an ID which is passed to the match query."
   ]
  },
  {
   "cell_type": "code",
   "execution_count": 14,
   "id": "eb8cab3a",
   "metadata": {},
   "outputs": [
    {
     "name": "stdout",
     "output_type": "stream",
     "text": [
      "Running Query...\n",
      "Matches for Record: A7568440 20-Methylcholanthrene\n",
      "\n",
      "RANK   ATOM ID    Concept Description                                                  Confidence\n",
      "----|-----------|------------------------------------------------------------|------------\n",
      " 01   A7568440      20-Methylcholanthrene                                        1.000000\n",
      " 02   A7668772      Dimethylbenzanthracene                                       0.942820\n",
      " 03   A18399960     Mercaptopurine                                               0.568780\n",
      " 04   A0003594      beta Alanine                                                 0.556910\n",
      " 05   A23492397     Mercaptopurine                                               0.556750\n",
      " 06   A22722081     mercaptopurine                                               0.555170\n",
      " 07   A0017579      8-Hydroxyquinoline                                           0.534590\n",
      " 08   A1231129      Eicosapentanoic acid                                         0.520670\n",
      " 09   A0085141      Mesna                                                        0.519910\n",
      " 10   A0529303      5-Hydroxy tryptophan                                         0.490900\n",
      "\n",
      "Round Trip time: 8.22 msec\n",
      "     Query time: 2.76 msec\n"
     ]
    }
   ],
   "source": [
    "print('Running Query...')\n",
    "# pick a random drug record out of 100\n",
    "targetDrugRecords = conn.getVertices('Atom', limit=100)\n",
    "targetDrugRecord = targetDrugRecords[rand.randint(0,99)]\n",
    "\n",
    "# run similarity on the choosen drug record\n",
    "tStart = time.perf_counter()\n",
    "result = conn.runInstalledQuery('client_cosinesim_match_alveo',\n",
    "                                  {'queryRecord': targetDrugRecord['v_id'], 'topK': topK}, timeout=240000000)\n",
    "tDuration = 1000*(time.perf_counter() - tStart)\n",
    "\n",
    "printResults(result, targetDrugRecord)\n",
    "resTime = result[0][\"ExecTimeInMs\"]\n",
    "print(f\"\\nRound Trip time: {tDuration:.2f} msec\")\n",
    "print(f\"     Query time: {resTime:.2f} msec\")"
   ]
  },
  {
   "cell_type": "markdown",
   "id": "96ee1e9a",
   "metadata": {},
   "source": [
    "Notice that as a sanity check, the top matching Atom is the query Atom itself with a match score of 1.\n",
    "Feel free to play with the query!\n",
    "\n",
    "#### Thanks for your time!"
   ]
  }
 ],
 "metadata": {
  "kernelspec": {
   "display_name": "Python 3",
   "language": "python",
   "name": "python3"
  },
  "language_info": {
   "codemirror_mode": {
    "name": "ipython",
    "version": 3
   },
   "file_extension": ".py",
   "mimetype": "text/x-python",
   "name": "python",
   "nbconvert_exporter": "python",
   "pygments_lexer": "ipython3",
   "version": "3.6.9"
  }
 },
 "nbformat": 4,
 "nbformat_minor": 5
}
