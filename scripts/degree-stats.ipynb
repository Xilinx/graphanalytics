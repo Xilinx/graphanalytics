{
 "cells": [
  {
   "cell_type": "code",
   "execution_count": null,
   "id": "df05e0bd",
   "metadata": {},
   "outputs": [],
   "source": [
    "import matplotlib.pyplot as plt\n",
    "from matplotlib.pyplot import figure\n",
    "import networkx as nx"
   ]
  },
  {
   "cell_type": "markdown",
   "id": "2d2d0859",
   "metadata": {},
   "source": [
    "# Get degree from TigerGraph log file"
   ]
  },
  {
   "cell_type": "code",
   "execution_count": null,
   "id": "e01c15a9",
   "metadata": {},
   "outputs": [],
   "source": [
    "in_file = './degrees.log'\n",
    "in_file = 'europe-osm-degrees.log'\n",
    "degree_list = []\n",
    "with open(in_file) as in_fh:\n",
    "    for line in in_fh:\n",
    "        degree = int(line)\n",
    "        degree_list.append(degree)"
   ]
  },
  {
   "cell_type": "markdown",
   "id": "7cf8f177",
   "metadata": {},
   "source": [
    "# Create graph from mtx"
   ]
  },
  {
   "cell_type": "code",
   "execution_count": null,
   "id": "0c5b9d61",
   "metadata": {},
   "outputs": [],
   "source": [
    "mtx_file = 'as-Skitter-wt.mtx'\n",
    "edges = []\n",
    "line_cnt = 0\n",
    "with open(mtx_file, 'r') as fp:\n",
    "    for line in fp:\n",
    "        line_cnt += 1\n",
    "        if line_cnt % 1000000 == 0:\n",
    "            print('at', line_cnt)\n",
    "        #print(line)\n",
    "        edge_in = line.split()\n",
    "        if edge_in[0] == '*Vertices' or edge_in[0] == '*Edges':\n",
    "            continue\n",
    "        else:\n",
    "            edges.append((int(edge_in[0]), int(edge_in[1])))"
   ]
  },
  {
   "cell_type": "code",
   "execution_count": null,
   "id": "a07995b8",
   "metadata": {},
   "outputs": [],
   "source": [
    "graph = nx.Graph()\n",
    "graph.add_edges_from(edges)\n",
    "degree_list = [val for (node, val) in graph.degree()]"
   ]
  },
  {
   "cell_type": "markdown",
   "id": "73d32557",
   "metadata": {},
   "source": [
    "# Collect stats"
   ]
  },
  {
   "cell_type": "code",
   "execution_count": null,
   "id": "b4c9c774",
   "metadata": {},
   "outputs": [],
   "source": [
    "print('Max degree=', max(degree_list))\n",
    "print('Min degree=', min(degree_list))\n",
    "print('Avg degree=', sum(degree_list)/len(degree_list))"
   ]
  },
  {
   "cell_type": "code",
   "execution_count": null,
   "id": "9f1545ef",
   "metadata": {},
   "outputs": [],
   "source": [
    "hist_dict = {}\n",
    "\n",
    "for d in degree_list:\n",
    "    if d in hist_dict:\n",
    "        hist_dict[d] += 1\n",
    "    else:\n",
    "        hist_dict[d] = 1\n",
    "        \n",
    "#print(hist_dict)"
   ]
  },
  {
   "cell_type": "code",
   "execution_count": null,
   "id": "0ac8a9e8",
   "metadata": {},
   "outputs": [],
   "source": [
    "hist = sorted(hist_dict.items()) # sorted by key, return a list of tuples\n",
    "\n",
    "x, y = zip(*hist) # unpack a list of pairs into two tuples\n",
    "\n",
    "\n",
    "#figure(figsize=(40, 10), dpi=80)\n",
    "figure(figsize=(40, 20))\n",
    "plt.xlabel('Degree')\n",
    "plt.ylabel('Number of Vertices')\n",
    "plt.title('as-Skitter degree distribution')\n",
    "plt.plot(x[0:199], y[0:199])\n",
    "plt.show()"
   ]
  }
 ],
 "metadata": {
  "kernelspec": {
   "display_name": "Python 3",
   "language": "python",
   "name": "python3"
  },
  "language_info": {
   "codemirror_mode": {
    "name": "ipython",
    "version": 3
   },
   "file_extension": ".py",
   "mimetype": "text/x-python",
   "name": "python",
   "nbconvert_exporter": "python",
   "pygments_lexer": "ipython3",
   "version": "3.8.10"
  }
 },
 "nbformat": 4,
 "nbformat_minor": 5
}
